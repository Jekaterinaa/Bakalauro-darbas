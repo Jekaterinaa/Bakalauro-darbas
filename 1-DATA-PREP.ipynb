{
 "cells": [
  {
   "cell_type": "code",
   "execution_count": 1,
   "metadata": {},
   "outputs": [],
   "source": [
    "import numpy as np\n",
    "import pandas as pd\n",
    "import os"
   ]
  },
  {
   "cell_type": "code",
   "execution_count": 2,
   "metadata": {},
   "outputs": [],
   "source": [
    "def read_merge(file1, file2):\n",
    "    # read csv files\n",
    "    os.chdir(\"/Users/jekaterina/Desktop/Bakalauras/Data\")\n",
    "    df1 = pd.read_csv(file1, sep=';')\n",
    "    df2 = pd.read_csv(file2, sep=';')\n",
    "    \n",
    "    if(df1.shape[0] > df2.shape[0]):\n",
    "        df1.drop(df1.tail(1).index, inplace=True)\n",
    "    else:\n",
    "        df2.drop(df2.tail(1).index, inplace=True)\n",
    "    \n",
    "    df = pd.merge(df1, df2, how='inner', on='Date')\n",
    "    \n",
    "    return df\n",
    "\n",
    "\n",
    "def data_preparation(df):\n",
    "    df[\"Date\"]= pd.to_datetime(df[\"Date\"]).dt.date\n",
    "    \n",
    "    if('Addresses with balance greater than $10M' in df.columns):\n",
    "        df.rename(columns = {'Addresses with balance greater than $10M':'Addresses with balance > $10M',}, inplace=True)\n",
    "        \n",
    "    df['Price (Open)'] = df['Price (Open)'].str.replace(',','')\n",
    "        \n",
    "    for col in df.columns:\n",
    "        df[col] = df[col].apply(lambda x: str(x).replace(\",\",\"\")) \n",
    "        df[col] = df[col].apply(lambda x: str(x).replace(\"$\",\"\")) \n",
    "        #df[col] = df[col].apply(lambda x: str(x).replace(\"-\",np.nan))\n",
    "        df[col] = df[col].replace('-', np.NaN)\n",
    "        \n",
    "        for row in df[col]:\n",
    "            \n",
    "            if 'K' in str(row):\n",
    "                df[col] = df[col].replace(row, float(row[:-1])*1000)\n",
    "                \n",
    "            if 'M' in str(row):\n",
    "                df[col] = df[col].replace(row, float(row[:-1])*1000000)\n",
    "                \n",
    "            if 'B' in str(row):\n",
    "                df[col] = df[col].replace(row, float(row[:-1])*1000000000)\n",
    "                \n",
    "            if 'T' in str(row):\n",
    "                df[col] = df[col].replace(row, float(row[:-1])*1000000000000)\n",
    "                \n",
    "    return df\n",
    "\n",
    "\n",
    "def save_csv(df, crypto):\n",
    "    os.chdir(\"/Users/jekaterina/Desktop/Bakalauras/Data/Prepared data\")\n",
    "    df.to_csv(crypto + '_daily.csv', sep=';', index=False)"
   ]
  },
  {
   "cell_type": "code",
   "execution_count": 3,
   "metadata": {},
   "outputs": [],
   "source": [
    "for crypto in ['BTC', 'ETH', 'BNB', 'XRP', 'ADA', 'DOGE', 'LTC',\n",
    "               'TRX', 'LINK', 'BCH', 'EOS', 'OMG', 'XMR', 'ZEC']:\n",
    "    df = read_merge(crypto + '_yearly_1.csv', crypto + '_yearly_2.csv')\n",
    "    df = data_preparation(df)\n",
    "    save_csv(df, crypto)"
   ]
  }
 ],
 "metadata": {
  "kernelspec": {
   "display_name": "Python 3",
   "language": "python",
   "name": "python3"
  },
  "language_info": {
   "codemirror_mode": {
    "name": "ipython",
    "version": 3
   },
   "file_extension": ".py",
   "mimetype": "text/x-python",
   "name": "python",
   "nbconvert_exporter": "python",
   "pygments_lexer": "ipython3",
   "version": "3.11.2"
  },
  "orig_nbformat": 4,
  "vscode": {
   "interpreter": {
    "hash": "aee8b7b246df8f9039afb4144a1f6fd8d2ca17a180786b69acc140d282b71a49"
   }
  }
 },
 "nbformat": 4,
 "nbformat_minor": 2
}
